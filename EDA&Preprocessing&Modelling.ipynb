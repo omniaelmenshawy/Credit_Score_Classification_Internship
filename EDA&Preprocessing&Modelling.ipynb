{
 "cells": [
  {
   "cell_type": "markdown",
   "metadata": {
    "id": "RCc8tEkDWgBT"
   },
   "source": [
    "# Credit Score Classification :  EDA"
   ]
  },
  {
   "cell_type": "code",
   "execution_count": null,
   "metadata": {
    "id": "qflXDO7iWEHo"
   },
   "outputs": [],
   "source": [
    "import pandas as pd\n",
    "import numpy as np\n",
    "import matplotlib.pyplot as plt\n",
    "import seaborn as sns\n",
    "%matplotlib inline\n",
    "from dataprep.datasets import load_dataset\n",
    "from dataprep.eda import create_report"
   ]
  },
  {
   "cell_type": "code",
   "execution_count": null,
   "metadata": {
    "colab": {
     "base_uri": "https://localhost:8080/"
    },
    "id": "OzKz5RRAXXaK",
    "outputId": "ba6f0025-7bcf-4d99-9610-50b1662eadcc"
   },
   "outputs": [],
   "source": [
    "url=\"https://drive.google.com/file/d/188k4zYkpSu3S1xD_r6ztc33RCLINl8-k/view?usp=sharing\"\n",
    "url='https://drive.google.com/uc?id=' + url.split('/')[-2]\n",
    "df = pd.read_csv(url)"
   ]
  },
  {
   "cell_type": "code",
   "execution_count": null,
   "metadata": {},
   "outputs": [],
   "source": [
    "df.head(20)"
   ]
  },
  {
   "cell_type": "code",
   "execution_count": null,
   "metadata": {},
   "outputs": [],
   "source": [
    "df['Credit_Score'].value_counts()"
   ]
  },
  {
   "cell_type": "code",
   "execution_count": null,
   "metadata": {
    "colab": {
     "base_uri": "https://localhost:8080/"
    },
    "id": "g1Par1drdntU",
    "outputId": "5b1b038e-980b-4b66-fe51-a293cb61ee82"
   },
   "outputs": [],
   "source": [
    "df['Customer_ID'].value_counts()"
   ]
  },
  {
   "cell_type": "code",
   "execution_count": null,
   "metadata": {
    "colab": {
     "base_uri": "https://localhost:8080/"
    },
    "id": "oCx3sll3dzGD",
    "outputId": "7435993c-97be-4c9c-8565-416478454f5e"
   },
   "outputs": [],
   "source": [
    "df['ID'].value_counts()"
   ]
  },
  {
   "cell_type": "code",
   "execution_count": null,
   "metadata": {
    "colab": {
     "base_uri": "https://localhost:8080/"
    },
    "id": "wDpNNboedzKR",
    "outputId": "cee552b0-2729-4d07-a3a7-8f0167adc37e"
   },
   "outputs": [],
   "source": [
    "df['SSN'].value_counts()"
   ]
  },
  {
   "cell_type": "code",
   "execution_count": null,
   "metadata": {
    "colab": {
     "base_uri": "https://localhost:8080/",
     "referenced_widgets": [
      ""
     ]
    },
    "id": "Z6kLkZoRXyZ5",
    "outputId": "276c8928-575b-46e7-d6ed-413f478f5319"
   },
   "outputs": [],
   "source": [
    "create_report(df).show()"
   ]
  },
  {
   "cell_type": "code",
   "execution_count": null,
   "metadata": {
    "id": "E0iykB-KYjwb",
    "outputId": "102b631d-94bf-4710-ca71-f55bff0b5f40"
   },
   "outputs": [],
   "source": [
    "corr = df.corr()\n",
    "f, ax = plt.subplots(figsize=(12, 10))\n",
    "mask = np.triu(np.ones_like(corr, dtype=bool))\n",
    "cmap = sns.diverging_palette(230, 20, as_cmap=True)\n",
    "sns.heatmap(corr, annot=True, mask = mask, cmap=cmap)"
   ]
  },
  {
   "cell_type": "markdown",
   "metadata": {
    "id": "RWkfIQESbiQy"
   },
   "source": [
    "# Task 3: Preprocessing\n",
    "\n",
    "- remove unnecessary columns\n",
    "- Categorical to numerical\n",
    "- Missing values -  Function to relate customer  or KNN imputer - ID with each column\n",
    "- remove outliers and noise\n",
    "- skewness\n",
    "`- return back to Type of loans column`\n"
   ]
  },
  {
   "cell_type": "code",
   "execution_count": null,
   "metadata": {
    "colab": {
     "base_uri": "https://localhost:8080/",
     "height": 1000
    },
    "id": "p410-QqEbcue",
    "outputId": "39bc940d-9bd6-4256-fa6e-8328a4f49b0e"
   },
   "outputs": [],
   "source": [
    "df.head(20)"
   ]
  },
  {
   "cell_type": "code",
   "execution_count": null,
   "metadata": {
    "id": "jIDW3szNlJXG"
   },
   "outputs": [],
   "source": [
    "#df[\"Type_of_Loan\"].value_counts()"
   ]
  },
  {
   "cell_type": "code",
   "execution_count": null,
   "metadata": {
    "colab": {
     "base_uri": "https://localhost:8080/"
    },
    "id": "YdIAscPTpJaV",
    "outputId": "7030e976-b20e-4b28-a4a5-2124cfa00276"
   },
   "outputs": [],
   "source": [
    "url=\"https://drive.google.com/file/d/188k4zYkpSu3S1xD_r6ztc33RCLINl8-k/view?usp=sharing\"\n",
    "url='https://drive.google.com/uc?id=' + url.split('/')[-2]\n",
    "df = pd.read_csv(url)"
   ]
  },
  {
   "cell_type": "code",
   "execution_count": null,
   "metadata": {
    "colab": {
     "base_uri": "https://localhost:8080/"
    },
    "id": "H70hiIwHm2WA",
    "outputId": "549afbae-f49b-4e5a-d3bd-2c7c2cbceca7"
   },
   "outputs": [],
   "source": [
    "#df[\"Changed_Credit_Limit\"].value_counts"
   ]
  },
  {
   "cell_type": "code",
   "execution_count": null,
   "metadata": {
    "colab": {
     "base_uri": "https://localhost:8080/"
    },
    "id": "-SN28ooDg6QM",
    "outputId": "70d5357b-57be-4f04-ef02-9eb815e343b6"
   },
   "outputs": [],
   "source": [
    "df.columns"
   ]
  },
  {
   "cell_type": "code",
   "execution_count": null,
   "metadata": {},
   "outputs": [],
   "source": [
    "df[\"Payment_of_Min_Amount\"].value_counts"
   ]
  },
  {
   "cell_type": "code",
   "execution_count": null,
   "metadata": {
    "id": "9lE5Cd5xiCrK"
   },
   "outputs": [],
   "source": [
    "def preprocessing(df):# Here we preprocessed the entire dataset\n",
    "    \n",
    "    # Here we preprocessde the Type of Loan , as this columns had many problems\n",
    "    df = df.assign(Type_of_Loan = df[\"Type_of_Loan\"].str.replace(r\" and \",\" \"))\n",
    "    df['Type_of_Loan']=df['Type_of_Loan'].replace(np.nan, 'Not Specified', regex=True)\n",
    "    d=df['Type_of_Loan'].str.split(\", \").explode(['Type_of_Loan'])\n",
    "    types_of_loan=set(d)\n",
    "    location_df = df['Type_of_Loan'].apply(lambda x: pd.Series(str(x).split(\", \")))\n",
    "    for i in range(9):\n",
    "        location_df[i].replace(np.nan, '0', regex=True,inplace=True)\n",
    "    number_of_diff_loans=len(types_of_loan)\n",
    "    dic_of_loans=dict(zip(types_of_loan,range(1,number_of_diff_loans+1)))\n",
    "    for i in range(9):\n",
    "        location_df[i]=location_df[i].map(dic_of_loans)\n",
    "    for i in range(9):\n",
    "        location_df[i].replace(np.nan, '0', regex=True,inplace=True)\n",
    "    location_df=location_df.astype(\"uint8\")\n",
    "\n",
    "    df.drop(['Type_of_Loan'],inplace = True, axis = 1)\n",
    "\n",
    "    df=pd.concat([df, location_df], axis=1, join='inner')\n",
    "    # end of the Type of loan preprocessing column\n",
    "    #-------------------------------------------------------------\n",
    "    #rest of preprocessing columns\n",
    "    df.drop(['ID'],inplace = True, axis = 1)\n",
    "    df.drop(['Name'],inplace = True, axis = 1)\n",
    "    df.drop(['SSN'],inplace = True, axis = 1)\n",
    "    df['Age'] = df['Age'].str.replace(r'\\D+', '', regex=True).astype('int')\n",
    "    df['Annual_Income'] = df['Annual_Income'].str.replace(r'\\D+', '', regex=True).astype('float')\n",
    "    df['Num_of_Loan'] = df['Num_of_Loan'].str.replace(r'\\D+', '', regex=True).astype('int')\n",
    "    df['Num_of_Delayed_Payment'] = df['Num_of_Delayed_Payment'].str.replace(r'\\D+', '', regex=True).astype('float')\n",
    "    df['Changed_Credit_Limit'] = pd.to_numeric(df['Changed_Credit_Limit'].str.replace('_', '-4.66'))\n",
    "    df['Outstanding_Debt'] = pd.to_numeric(df['Outstanding_Debt'].str.replace('_', ''))\n",
    "    df['Payment_of_Min_Amount'] = df['Payment_of_Min_Amount'].str.replace('NM', 'No')\n",
    "    df['Amount_invested_monthly'] = pd.to_numeric(df['Amount_invested_monthly'].str.replace('_', ''))\n",
    "    df['Monthly_Balance'] = pd.to_numeric(df['Monthly_Balance'].str.replace('__-333333333333333333333333333__', '333.3333'))\n",
    "    credit_age = []\n",
    "    for i in df['Credit_History_Age']:\n",
    "        credit_age.append(str(i).split(' ')[0])\n",
    "    df['Credit_History_Age'] = credit_age\n",
    "    df['Credit_History_Age'] = df['Credit_History_Age'].replace({'nan':np.nan})\n",
    "    df['Credit_History_Age'] = df['Credit_History_Age'].astype('float64')\n",
    "    df['Age'] = df['Age'].replace('-', '')\n",
    "    df['Changed_Credit_Limit'] = df['Changed_Credit_Limit'].replace('-', '')\n",
    "    df['Num_Bank_Accounts'] = df['Num_Bank_Accounts'].replace('-', '').astype(\"uint8\")\n",
    "    df['Changed_Credit_Limit'] = (df['Changed_Credit_Limit'].replace('-', '')).astype(\"uint8\")\n",
    "    df[\"Changed_Credit_Limit\"]=abs(df[\"Changed_Credit_Limit\"])\n",
    "    #-----------------------------------------------------------------------\n",
    "    return df"
   ]
  },
  {
   "cell_type": "code",
   "execution_count": null,
   "metadata": {},
   "outputs": [],
   "source": [
    "df=preprocessing(df)"
   ]
  },
  {
   "cell_type": "code",
   "execution_count": null,
   "metadata": {},
   "outputs": [],
   "source": [
    "dict = {0: 'Loan1',\n",
    "        1: 'Loan2',\n",
    "        2: 'Loan3',\n",
    "        3: 'Loan4',\n",
    "        4: 'Loan5',\n",
    "        5: 'Loan6',\n",
    "        6: 'Loan7',\n",
    "        7: 'Loan8',\n",
    "        8: 'Loan9'}\n",
    " \n",
    "# call rename () method\n",
    "df.rename(columns=dict,\n",
    "          inplace=True)"
   ]
  },
  {
   "cell_type": "code",
   "execution_count": null,
   "metadata": {},
   "outputs": [],
   "source": [
    "CatCols = [\"Customer_ID\", \"Month\", \"Occupation\", \"Credit_Mix\", \"Payment_of_Min_Amount\"\n",
    "           , \"Payment_Behaviour\",\"Credit_Score\"]"
   ]
  },
  {
   "cell_type": "code",
   "execution_count": null,
   "metadata": {},
   "outputs": [],
   "source": [
    "dfCat = df[CatCols]"
   ]
  },
  {
   "cell_type": "code",
   "execution_count": null,
   "metadata": {},
   "outputs": [],
   "source": [
    "numCols = ['Age',\n",
    "       'Annual_Income', 'Monthly_Inhand_Salary', 'Num_Bank_Accounts',\n",
    "       'Num_Credit_Card', 'Interest_Rate', 'Num_of_Loan',\n",
    "       'Delay_from_due_date', 'Num_of_Delayed_Payment', 'Changed_Credit_Limit',\n",
    "       'Num_Credit_Inquiries', 'Outstanding_Debt',\n",
    "       'Credit_Utilization_Ratio', 'Credit_History_Age', 'Total_EMI_per_month',\n",
    "       'Amount_invested_monthly', 'Monthly_Balance', 'Loan1', 'Loan2', 'Loan3', 'Loan4', 'Loan5', 'Loan6',\n",
    "       'Loan7', 'Loan8', 'Loan9']"
   ]
  },
  {
   "cell_type": "code",
   "execution_count": null,
   "metadata": {},
   "outputs": [],
   "source": [
    "dfNum = df[numCols]"
   ]
  },
  {
   "cell_type": "code",
   "execution_count": null,
   "metadata": {},
   "outputs": [],
   "source": [
    "from sklearn.impute import KNNImputer\n",
    "imputer = KNNImputer(n_neighbors=5)\n",
    "imputed = imputer.fit_transform(dfNum)\n",
    "df_imputed = pd.DataFrame(imputed, columns=dfNum.columns)\n"
   ]
  },
  {
   "cell_type": "code",
   "execution_count": null,
   "metadata": {
    "colab": {
     "base_uri": "https://localhost:8080/"
    },
    "id": "BexHTQWChAmK",
    "outputId": "3283bcca-9bc2-4760-d157-a0396ef1bb5d",
    "scrolled": true
   },
   "outputs": [],
   "source": [
    "df.info()"
   ]
  },
  {
   "cell_type": "code",
   "execution_count": null,
   "metadata": {},
   "outputs": [],
   "source": [
    "df.columns"
   ]
  },
  {
   "cell_type": "code",
   "execution_count": null,
   "metadata": {},
   "outputs": [],
   "source": [
    "df=pd.concat([df_imputed, dfCat], axis=1, join='inner')"
   ]
  },
  {
   "cell_type": "code",
   "execution_count": null,
   "metadata": {
    "colab": {
     "base_uri": "https://localhost:8080/"
    },
    "id": "wH94oiSbjd_3",
    "outputId": "c5947dfc-f235-430b-b410-8a9d59cd19fe"
   },
   "outputs": [],
   "source": [
    "df[\"Monthly_Balance\"].min()"
   ]
  },
  {
   "cell_type": "code",
   "execution_count": null,
   "metadata": {
    "colab": {
     "base_uri": "https://localhost:8080/"
    },
    "id": "E6Z4x1r5zrDd",
    "outputId": "6ef2efe7-16fa-4b21-d17b-9cef175f3be7"
   },
   "outputs": [],
   "source": [
    "df[\"Credit_History_Age\"].value_counts()"
   ]
  },
  {
   "cell_type": "code",
   "execution_count": null,
   "metadata": {
    "colab": {
     "base_uri": "https://localhost:8080/"
    },
    "id": "ZjAJfuv2j1Fc",
    "outputId": "b35b5bab-4112-42b1-997e-8320fd159efb"
   },
   "outputs": [],
   "source": [
    "df.columns"
   ]
  },
  {
   "cell_type": "code",
   "execution_count": null,
   "metadata": {
    "colab": {
     "base_uri": "https://localhost:8080/",
     "height": 300
    },
    "id": "Zm8Yc2he8-VT",
    "outputId": "2e3a8d75-941a-4877-b33d-27a5d94b9ec8",
    "scrolled": true
   },
   "outputs": [],
   "source": [
    "df.head()"
   ]
  },
  {
   "cell_type": "code",
   "execution_count": null,
   "metadata": {
    "colab": {
     "base_uri": "https://localhost:8080/",
     "height": 300
    },
    "id": "fm9Ec2XbhDsS",
    "outputId": "70cd92cc-47c7-48db-d94f-5a9b9d1a8b08"
   },
   "outputs": [],
   "source": [
    "df.head()"
   ]
  },
  {
   "cell_type": "code",
   "execution_count": null,
   "metadata": {
    "id": "DxTq8lzBOzkH"
   },
   "outputs": [],
   "source": [
    "df.to_csv('fixed.csv', index=False)"
   ]
  },
  {
   "cell_type": "markdown",
   "metadata": {},
   "source": [
    "# Importing new dataset:\n"
   ]
  },
  {
   "cell_type": "code",
   "execution_count": null,
   "metadata": {},
   "outputs": [],
   "source": [
    "import pandas as pd\n",
    "import numpy as np\n",
    "import matplotlib.pyplot as plt\n",
    "import seaborn as sns\n",
    "%matplotlib inline\n",
    "#from dataprep.datasets import load_dataset\n",
    "#from dataprep.eda import create_report"
   ]
  },
  {
   "cell_type": "code",
   "execution_count": null,
   "metadata": {
    "id": "BNmEjXKCPAVV"
   },
   "outputs": [],
   "source": [
    "\"\"\"\"\n",
    "url=\"https://drive.google.com/file/d/1w_nuEXv8zL8xI7zn2I1auPDw6q35uHmF/view?usp=sharing\"\n",
    "url='https://drive.google.com/uc?id=' + url.split('/')[-2]\n",
    "df = pd.read_csv(url)\n",
    "\"\"\""
   ]
  },
  {
   "cell_type": "code",
   "execution_count": null,
   "metadata": {},
   "outputs": [],
   "source": [
    "#df=pd.read_csv(r'C:\\Users\\Karim-\\Desktop\\Machinefy Internship\\fixed.csv')"
   ]
  },
  {
   "cell_type": "code",
   "execution_count": null,
   "metadata": {
    "scrolled": true
   },
   "outputs": [],
   "source": [
    "df.head()"
   ]
  },
  {
   "cell_type": "code",
   "execution_count": null,
   "metadata": {},
   "outputs": [],
   "source": [
    "df['Credit_Score'].value_counts()"
   ]
  },
  {
   "cell_type": "markdown",
   "metadata": {},
   "source": [
    "Standard = 2\n",
    "Poor = 1\n",
    "Good = 0"
   ]
  },
  {
   "cell_type": "markdown",
   "metadata": {
    "id": "gCKYy1_oOzkI"
   },
   "source": [
    "# Outliers:"
   ]
  },
  {
   "cell_type": "code",
   "execution_count": null,
   "metadata": {
    "colab": {
     "base_uri": "https://localhost:8080/"
    },
    "id": "uWIgGEAFr8nC",
    "outputId": "f1713f1d-cca7-43b9-93a9-3715bf3bd793"
   },
   "outputs": [],
   "source": [
    "df['Changed_Credit_Limit'].value_counts"
   ]
  },
  {
   "cell_type": "code",
   "execution_count": null,
   "metadata": {
    "colab": {
     "base_uri": "https://localhost:8080/"
    },
    "id": "j3fXYiLVOzkI",
    "outputId": "15d8b096-b1ce-4d16-922a-f0fc81e87706"
   },
   "outputs": [],
   "source": [
    "#!pip install plotly"
   ]
  },
  {
   "cell_type": "code",
   "execution_count": null,
   "metadata": {
    "id": "kegukj-oOzkI"
   },
   "outputs": [],
   "source": [
    "import plotly.express as px"
   ]
  },
  {
   "cell_type": "code",
   "execution_count": null,
   "metadata": {
    "id": "hbhwWSEWMLuT"
   },
   "outputs": [],
   "source": [
    "def outlier_correction(df,column_name):\n",
    "    q1, q3= np.percentile(df[column_name],[25,75])\n",
    "    iqr = q3 - q1\n",
    "    lower_bound = q1 -(1.5 * iqr) \n",
    "    upper_bound = q3 +(1.5 * iqr) \n",
    "    df[column_name][df[column_name] < lower_bound ] = lower_bound\n",
    "    df[column_name][df[column_name] > upper_bound ] = upper_bound"
   ]
  },
  {
   "cell_type": "code",
   "execution_count": null,
   "metadata": {
    "colab": {
     "base_uri": "https://localhost:8080/"
    },
    "id": "Go_YcjteOzkK",
    "outputId": "ef005121-57a0-4060-aacb-72f879016e46"
   },
   "outputs": [],
   "source": [
    "def outliers_correction_and_scaling(df):\n",
    "    lower_bound_age = 14\n",
    "    upper_bound_age = 85\n",
    "    #print(lower_bound_age, upper_bound_age )\n",
    "\n",
    "    df.Age[df[\"Age\"] < lower_bound_age ] = lower_bound_age\n",
    "\n",
    "    df.Age[df[\"Age\"] > upper_bound_age ] = upper_bound_age\n",
    "    outlier_columns=['Annual_Income','Num_Bank_Accounts','Num_Credit_Card','Interest_Rate',\n",
    "                     'Num_of_Loan','Num_of_Delayed_Payment',\n",
    "                     'Changed_Credit_Limit','Num_Credit_Inquiries','Amount_invested_monthly',\"Total_EMI_per_month\"]\n",
    "    for i in outlier_columns:\n",
    "        outlier_correction(df,i)\n",
    "    \n",
    "    from sklearn.preprocessing import RobustScaler\n",
    "\n",
    "    transformer = RobustScaler().fit(df)\n",
    "    transformer.transform(df)\n",
    "    return df"
   ]
  },
  {
   "cell_type": "code",
   "execution_count": null,
   "metadata": {
    "scrolled": true
   },
   "outputs": [],
   "source": [
    "df=outliers_correction_and_scaling(df)"
   ]
  },
  {
   "cell_type": "code",
   "execution_count": null,
   "metadata": {},
   "outputs": [],
   "source": []
  },
  {
   "cell_type": "code",
   "execution_count": null,
   "metadata": {},
   "outputs": [],
   "source": [
    "numCols = ['Age',\n",
    "       'Annual_Income', 'Monthly_Inhand_Salary', 'Num_Bank_Accounts',\n",
    "       'Num_Credit_Card', 'Interest_Rate', 'Num_of_Loan',\n",
    "       'Delay_from_due_date', 'Num_of_Delayed_Payment', 'Changed_Credit_Limit',\n",
    "       'Num_Credit_Inquiries', 'Outstanding_Debt',\n",
    "       'Credit_Utilization_Ratio', 'Credit_History_Age', 'Total_EMI_per_month',\n",
    "       'Amount_invested_monthly', 'Monthly_Balance', 'Loan1', 'Loan2', 'Loan3', 'Loan4']"
   ]
  },
  {
   "cell_type": "code",
   "execution_count": null,
   "metadata": {},
   "outputs": [],
   "source": [
    "dfNum = df[numCols]"
   ]
  },
  {
   "cell_type": "code",
   "execution_count": null,
   "metadata": {
    "scrolled": true
   },
   "outputs": [],
   "source": [
    "from sklearn.preprocessing import RobustScaler\n",
    "\n",
    "transformer = RobustScaler().fit(dfNum)\n",
    "transformer.transform(dfNum)"
   ]
  },
  {
   "cell_type": "code",
   "execution_count": null,
   "metadata": {},
   "outputs": [],
   "source": [
    "df = pd.concat([pd.DataFrame(dfNum, columns = df[numCols].columns), df[CatCols]])"
   ]
  },
  {
   "cell_type": "code",
   "execution_count": null,
   "metadata": {
    "colab": {
     "base_uri": "https://localhost:8080/",
     "height": 249
    },
    "id": "XY2PMdmXOzkM",
    "outputId": "8e170fdd-0f90-4943-dd8f-40fc2593b634",
    "scrolled": true
   },
   "outputs": [],
   "source": [
    "df.head()"
   ]
  },
  {
   "cell_type": "code",
   "execution_count": null,
   "metadata": {},
   "outputs": [],
   "source": [
    "df = pd.read_csv(\"/Users/omniaelmenshawy/Desktop//a7lafinal.csv\")"
   ]
  },
  {
   "cell_type": "code",
   "execution_count": null,
   "metadata": {
    "scrolled": true
   },
   "outputs": [],
   "source": [
    "df.head()"
   ]
  },
  {
   "cell_type": "code",
   "execution_count": null,
   "metadata": {},
   "outputs": [],
   "source": [
    "df.columns"
   ]
  },
  {
   "cell_type": "code",
   "execution_count": null,
   "metadata": {},
   "outputs": [],
   "source": [
    "df = df[['Age', 'Annual_Income', 'Monthly_Inhand_Salary', 'Num_Bank_Accounts',\n",
    "       'Num_Credit_Card', 'Interest_Rate', 'Num_of_Loan',\n",
    "       'Delay_from_due_date', 'Num_of_Delayed_Payment', 'Changed_Credit_Limit',\n",
    "       'Num_Credit_Inquiries', 'Outstanding_Debt', 'Credit_Utilization_Ratio',\n",
    "       'Credit_History_Age', 'Total_EMI_per_month', 'Amount_invested_monthly',\n",
    "       'Monthly_Balance', 'Loan1', 'Loan2', 'Loan3', 'Loan4', 'Customer_ID', 'Month', 'Occupation',\n",
    "       'Credit_Mix', 'Payment_of_Min_Amount', 'Payment_Behaviour',\n",
    "       'Credit_Score']]"
   ]
  },
  {
   "cell_type": "markdown",
   "metadata": {},
   "source": [
    "# Modelling:"
   ]
  },
  {
   "cell_type": "code",
   "execution_count": null,
   "metadata": {},
   "outputs": [],
   "source": [
    "from sklearn.model_selection import train_test_split\n",
    "from sklearn.preprocessing import StandardScaler\n",
    "from sklearn.linear_model import LogisticRegression\n",
    "from sklearn.metrics import confusion_matrix\n",
    "from sklearn.metrics import accuracy_score\n",
    "from sklearn.metrics import confusion_matrix,accuracy_score, classification_report\n",
    "from sklearn.utils import resample\n",
    "import seaborn as sns"
   ]
  },
  {
   "cell_type": "code",
   "execution_count": null,
   "metadata": {
    "scrolled": true
   },
   "outputs": [],
   "source": [
    "df.head()"
   ]
  },
  {
   "cell_type": "code",
   "execution_count": null,
   "metadata": {},
   "outputs": [],
   "source": [
    "df.columns"
   ]
  },
  {
   "cell_type": "code",
   "execution_count": null,
   "metadata": {
    "scrolled": true
   },
   "outputs": [],
   "source": [
    "sns.set(rc={'figure.figsize':(30,20)})\n",
    "sns.heatmap(df.corr(),annot=True,fmt='0.2g',cmap='coolwarm')"
   ]
  },
  {
   "cell_type": "code",
   "execution_count": null,
   "metadata": {},
   "outputs": [],
   "source": [
    "#! pip install shap\n",
    "#! pip install datasets"
   ]
  },
  {
   "cell_type": "code",
   "execution_count": null,
   "metadata": {},
   "outputs": [],
   "source": [
    "import shap\n",
    "from datasets import load_dataset"
   ]
  },
  {
   "cell_type": "code",
   "execution_count": null,
   "metadata": {},
   "outputs": [],
   "source": [
    "df_testing=df.copy(deep=True)\n",
    "\n",
    "from sklearn.utils import shuffle\n",
    "\n",
    "df2=shuffle(df_testing[df_testing['Credit_Score']== \"Standard\"][:25000])\n",
    "\n",
    "df1=shuffle(df_testing[df_testing['Credit_Score']==\"Poor\"][:20000])\n",
    "\n",
    "df0=shuffle(df_testing[df_testing['Credit_Score']==\"Good\"])\n",
    "\n",
    "df_final=pd.concat([df2, df1,df0])\n",
    "\n",
    "df_final=df_final.reset_index(drop=True)"
   ]
  },
  {
   "cell_type": "code",
   "execution_count": null,
   "metadata": {},
   "outputs": [],
   "source": [
    "df_final.replace('Standard'  ,2,inplace=True)\n",
    "df_final.replace('Poor',1,inplace=True)\n",
    "df_final.replace('Good'   ,0,inplace=True)"
   ]
  },
  {
   "cell_type": "code",
   "execution_count": null,
   "metadata": {},
   "outputs": [],
   "source": [
    "y_train = df_final.pop(\"Credit_Score\")\n",
    "x_train = df_final\n",
    "categorical_columns = [\"Customer_ID\", \"Month\", \"Occupation\", \"Credit_Mix\", \"Payment_of_Min_Amount\"\n",
    "           , \"Payment_Behaviour\",\n",
    "]\n",
    "target = [\"Credit_Score\",]\n",
    "#y_train = y_train.astype({col: \"category\" for col in target})\n",
    "#y_train = (y_train == \"Good\").astype(int)\n",
    "#y_train = (y_train == \"Poor\").astype(int)\n",
    "#y_train = (y_train == \"Standard\").astype(int)\n",
    "x_train = x_train.astype({col: \"category\" for col in categorical_columns})\n",
    "\n",
    "\n",
    "data = xgb.DMatrix(x_train, label=y_train, enable_categorical=True)\n",
    "model = xgb.train(params={\"objective\": \"multi:softmax\", 'num_class': 3}, dtrain=data)\n",
    "explainer = shap.TreeExplainer(model)"
   ]
  },
  {
   "cell_type": "code",
   "execution_count": null,
   "metadata": {},
   "outputs": [],
   "source": [
    "x_train.columns"
   ]
  },
  {
   "cell_type": "code",
   "execution_count": null,
   "metadata": {},
   "outputs": [],
   "source": [
    "df[\"Loan2\"].min()"
   ]
  },
  {
   "cell_type": "code",
   "execution_count": null,
   "metadata": {},
   "outputs": [],
   "source": [
    "df[\"Loan2\"].max()"
   ]
  },
  {
   "cell_type": "code",
   "execution_count": null,
   "metadata": {},
   "outputs": [],
   "source": [
    "y_train.unique()"
   ]
  },
  {
   "cell_type": "code",
   "execution_count": null,
   "metadata": {},
   "outputs": [],
   "source": [
    "x_train, x_test, y_train, y_test = train_test_split(x_train,y_train, test_size = 0.2, random_state=44)"
   ]
  },
  {
   "cell_type": "code",
   "execution_count": null,
   "metadata": {},
   "outputs": [],
   "source": [
    "x_train.shape"
   ]
  },
  {
   "cell_type": "code",
   "execution_count": null,
   "metadata": {
    "scrolled": true
   },
   "outputs": [],
   "source": [
    "x_test.shape"
   ]
  },
  {
   "cell_type": "code",
   "execution_count": null,
   "metadata": {},
   "outputs": [],
   "source": [
    "y_test.shape"
   ]
  },
  {
   "cell_type": "code",
   "execution_count": null,
   "metadata": {},
   "outputs": [],
   "source": [
    "pos_pred.shape"
   ]
  },
  {
   "cell_type": "markdown",
   "metadata": {},
   "source": [
    "## Logistic:"
   ]
  },
  {
   "cell_type": "code",
   "execution_count": null,
   "metadata": {},
   "outputs": [],
   "source": [
    "classifier = LogisticRegression(random_state=0)"
   ]
  },
  {
   "cell_type": "code",
   "execution_count": null,
   "metadata": {},
   "outputs": [],
   "source": [
    "classifier.fit(x_train, y_train)"
   ]
  },
  {
   "cell_type": "code",
   "execution_count": null,
   "metadata": {
    "scrolled": true
   },
   "outputs": [],
   "source": [
    "print('the score on train dataset is') \n",
    "print(classifier.score(x_train, y_train))"
   ]
  },
  {
   "cell_type": "code",
   "execution_count": null,
   "metadata": {},
   "outputs": [],
   "source": [
    "y_pred = classifier.predict(x_test)"
   ]
  },
  {
   "cell_type": "code",
   "execution_count": null,
   "metadata": {},
   "outputs": [],
   "source": [
    "print(\"Test Accuracy : \", accuracy_score(y_test, y_pred))"
   ]
  },
  {
   "cell_type": "code",
   "execution_count": null,
   "metadata": {},
   "outputs": [],
   "source": [
    "print(classification_report(y_test, y_pred))"
   ]
  },
  {
   "cell_type": "code",
   "execution_count": null,
   "metadata": {
    "scrolled": true
   },
   "outputs": [],
   "source": [
    "sns.heatmap(confusion_matrix(y_test, y_pred),annot=True,fmt='',cmap='YlGnBu')"
   ]
  },
  {
   "cell_type": "markdown",
   "metadata": {},
   "source": [
    "## KNN:"
   ]
  },
  {
   "cell_type": "code",
   "execution_count": null,
   "metadata": {},
   "outputs": [],
   "source": [
    "from sklearn.neighbors import KNeighborsClassifier"
   ]
  },
  {
   "cell_type": "code",
   "execution_count": null,
   "metadata": {},
   "outputs": [],
   "source": [
    "knn_classifier = KNeighborsClassifier(n_neighbors=3)\n",
    "knn_classifier.fit(x_train, y_train)"
   ]
  },
  {
   "cell_type": "code",
   "execution_count": null,
   "metadata": {
    "scrolled": true
   },
   "outputs": [],
   "source": [
    "print('the score on train dataset is') \n",
    "print(knn_classifier.score(x_train, y_train))"
   ]
  },
  {
   "cell_type": "code",
   "execution_count": null,
   "metadata": {},
   "outputs": [],
   "source": [
    "y_pred = knn_classifier.predict(x_test)"
   ]
  },
  {
   "cell_type": "code",
   "execution_count": null,
   "metadata": {},
   "outputs": [],
   "source": [
    "print(\"Test Accuracy : \", accuracy_score(y_test, y_pred))"
   ]
  },
  {
   "cell_type": "code",
   "execution_count": null,
   "metadata": {},
   "outputs": [],
   "source": [
    "print(classification_report(y_test, y_pred))"
   ]
  },
  {
   "cell_type": "code",
   "execution_count": null,
   "metadata": {},
   "outputs": [],
   "source": [
    "sns.heatmap(confusion_matrix(y_test, y_pred),annot=True,fmt='',cmap='YlGnBu')"
   ]
  },
  {
   "cell_type": "markdown",
   "metadata": {},
   "source": [
    "## GaussianNB:"
   ]
  },
  {
   "cell_type": "code",
   "execution_count": null,
   "metadata": {
    "scrolled": true
   },
   "outputs": [],
   "source": [
    "from sklearn.naive_bayes import GaussianNB\n",
    "classifier = GaussianNB()\n",
    "classifier.fit(x_train, y_train)"
   ]
  },
  {
   "cell_type": "code",
   "execution_count": null,
   "metadata": {
    "scrolled": true
   },
   "outputs": [],
   "source": [
    "print('the score on train dataset is') \n",
    "print(classifier.score(x_train, y_train))"
   ]
  },
  {
   "cell_type": "code",
   "execution_count": null,
   "metadata": {},
   "outputs": [],
   "source": [
    "y_pred = classifier.predict(x_test)"
   ]
  },
  {
   "cell_type": "code",
   "execution_count": null,
   "metadata": {},
   "outputs": [],
   "source": [
    "print(\"Test Accuracy : \", accuracy_score(y_test, y_pred))"
   ]
  },
  {
   "cell_type": "code",
   "execution_count": null,
   "metadata": {},
   "outputs": [],
   "source": [
    "print(classification_report(y_test, y_pred))"
   ]
  },
  {
   "cell_type": "code",
   "execution_count": null,
   "metadata": {
    "scrolled": true
   },
   "outputs": [],
   "source": [
    "sns.heatmap(confusion_matrix(y_test, y_pred),annot=True,fmt='',cmap='YlGnBu')"
   ]
  },
  {
   "cell_type": "markdown",
   "metadata": {},
   "source": [
    "# SVC:"
   ]
  },
  {
   "cell_type": "code",
   "execution_count": null,
   "metadata": {},
   "outputs": [],
   "source": [
    "from sklearn.svm import SVC\n",
    "classifier = SVC()\n",
    "classifier.fit(x_train, y_train)"
   ]
  },
  {
   "cell_type": "code",
   "execution_count": null,
   "metadata": {
    "scrolled": true
   },
   "outputs": [],
   "source": [
    "print('the score on train dataset is') \n",
    "print(classifier.score(x_train, y_train))"
   ]
  },
  {
   "cell_type": "code",
   "execution_count": null,
   "metadata": {},
   "outputs": [],
   "source": [
    "y_pred = classifier.predict(x_test)"
   ]
  },
  {
   "cell_type": "code",
   "execution_count": null,
   "metadata": {},
   "outputs": [],
   "source": [
    "print(\"Test Accuracy : \", accuracy_score(y_test, y_pred))"
   ]
  },
  {
   "cell_type": "code",
   "execution_count": null,
   "metadata": {},
   "outputs": [],
   "source": [
    "print(classification_report(y_test, y_pred))"
   ]
  },
  {
   "cell_type": "code",
   "execution_count": null,
   "metadata": {
    "scrolled": true
   },
   "outputs": [],
   "source": [
    "sns.heatmap(confusion_matrix(y_test, y_pred),annot=True,fmt='',cmap='YlGnBu')"
   ]
  },
  {
   "cell_type": "code",
   "execution_count": null,
   "metadata": {},
   "outputs": [],
   "source": []
  },
  {
   "cell_type": "code",
   "execution_count": null,
   "metadata": {},
   "outputs": [],
   "source": [
    "from sklearn.ensemble import GradientBoostingClassifier"
   ]
  },
  {
   "cell_type": "code",
   "execution_count": null,
   "metadata": {},
   "outputs": [],
   "source": [
    "classifier = GradientBoostingClassifier()\n",
    "classifier.fit(x_train, y_train)"
   ]
  },
  {
   "cell_type": "code",
   "execution_count": null,
   "metadata": {},
   "outputs": [],
   "source": [
    "print('the score on train dataset is') \n",
    "print(classifier.score(x_train, y_train))"
   ]
  },
  {
   "cell_type": "code",
   "execution_count": null,
   "metadata": {},
   "outputs": [],
   "source": [
    "y_pred = classifier.predict(x_test)"
   ]
  },
  {
   "cell_type": "code",
   "execution_count": null,
   "metadata": {},
   "outputs": [],
   "source": [
    "print(\"Test Accuracy : \", accuracy_score(y_test, y_pred))"
   ]
  },
  {
   "cell_type": "code",
   "execution_count": null,
   "metadata": {},
   "outputs": [],
   "source": [
    "print(classification_report(y_test, y_pred))"
   ]
  },
  {
   "cell_type": "code",
   "execution_count": null,
   "metadata": {},
   "outputs": [],
   "source": [
    "sns.heatmap(confusion_matrix(y_test, y_pred),annot=True,fmt='',cmap='YlGnBu')"
   ]
  },
  {
   "cell_type": "code",
   "execution_count": null,
   "metadata": {},
   "outputs": [],
   "source": []
  },
  {
   "cell_type": "markdown",
   "metadata": {},
   "source": [
    "# Random Forest"
   ]
  },
  {
   "cell_type": "code",
   "execution_count": null,
   "metadata": {},
   "outputs": [],
   "source": [
    "from sklearn.ensemble import RandomForestClassifier"
   ]
  },
  {
   "cell_type": "code",
   "execution_count": null,
   "metadata": {},
   "outputs": [],
   "source": [
    "clf = RandomForestClassifier(max_depth=15, random_state=17)\n",
    "clf.fit(x_train, y_train)"
   ]
  },
  {
   "cell_type": "code",
   "execution_count": null,
   "metadata": {},
   "outputs": [],
   "source": [
    "print('the score on train dataset is') \n",
    "print(clf.score(x_train, y_train))"
   ]
  },
  {
   "cell_type": "code",
   "execution_count": null,
   "metadata": {},
   "outputs": [],
   "source": [
    "y_pred = clf.predict(x_test)"
   ]
  },
  {
   "cell_type": "code",
   "execution_count": null,
   "metadata": {},
   "outputs": [],
   "source": [
    "print(\"Test Accuracy : \", accuracy_score(y_test, y_pred))"
   ]
  },
  {
   "cell_type": "code",
   "execution_count": null,
   "metadata": {},
   "outputs": [],
   "source": [
    "print(classification_report(y_test, y_pred))"
   ]
  },
  {
   "cell_type": "code",
   "execution_count": null,
   "metadata": {},
   "outputs": [],
   "source": [
    "sns.set(rc={'figure.figsize':(16,8)})\n",
    "sns.heatmap(confusion_matrix(y_test, y_pred),annot=True,fmt='',cmap='YlGnBu')"
   ]
  },
  {
   "cell_type": "code",
   "execution_count": null,
   "metadata": {},
   "outputs": [],
   "source": [
    "df['Credit_Score'].value_counts()"
   ]
  },
  {
   "cell_type": "code",
   "execution_count": null,
   "metadata": {},
   "outputs": [],
   "source": [
    "df.shape"
   ]
  },
  {
   "cell_type": "code",
   "execution_count": null,
   "metadata": {},
   "outputs": [],
   "source": []
  },
  {
   "cell_type": "code",
   "execution_count": null,
   "metadata": {},
   "outputs": [],
   "source": [
    "df_final"
   ]
  },
  {
   "cell_type": "code",
   "execution_count": null,
   "metadata": {},
   "outputs": [],
   "source": []
  },
  {
   "cell_type": "code",
   "execution_count": null,
   "metadata": {},
   "outputs": [],
   "source": []
  },
  {
   "cell_type": "markdown",
   "metadata": {},
   "source": [
    "# Now we will import the Test dataset!"
   ]
  },
  {
   "cell_type": "code",
   "execution_count": null,
   "metadata": {},
   "outputs": [],
   "source": [
    "df_test=pd.read_csv(r\"C:\\Users\\Karim-\\Desktop\\Machinefy Internship\\test.csv\")"
   ]
  },
  {
   "cell_type": "code",
   "execution_count": null,
   "metadata": {},
   "outputs": [],
   "source": [
    "df_test.head()"
   ]
  },
  {
   "cell_type": "code",
   "execution_count": null,
   "metadata": {},
   "outputs": [],
   "source": [
    "df_test.shape"
   ]
  },
  {
   "cell_type": "code",
   "execution_count": null,
   "metadata": {},
   "outputs": [],
   "source": [
    "def preprocessing_test(df):# Here we preprocessed the entire dataset\n",
    "    \n",
    "    # Here we preprocessde the Type of Loan , as this columns had many problems\n",
    "    df = df.assign(Type_of_Loan = df[\"Type_of_Loan\"].str.replace(r\" and \",\" \"))\n",
    "    df['Type_of_Loan']=df['Type_of_Loan'].replace(np.nan, 'Not Specified', regex=True)\n",
    "    d=df['Type_of_Loan'].str.split(\", \").explode(['Type_of_Loan'])\n",
    "    types_of_loan=set(d)\n",
    "    location_df = df['Type_of_Loan'].apply(lambda x: pd.Series(str(x).split(\", \")))\n",
    "    for i in range(9):\n",
    "        location_df[i].replace(np.nan, '0', regex=True,inplace=True)\n",
    "    number_of_diff_loans=len(types_of_loan)\n",
    "    dic_of_loans=dict(zip(types_of_loan,range(1,number_of_diff_loans+1)))\n",
    "    for i in range(9):\n",
    "        location_df[i]=location_df[i].map(dic_of_loans)\n",
    "    for i in range(9):\n",
    "        location_df[i].replace(np.nan, '0', regex=True,inplace=True)\n",
    "    location_df=location_df.astype(\"uint8\")\n",
    "\n",
    "    df.drop(['Type_of_Loan'],inplace = True, axis = 1)\n",
    "\n",
    "    df=pd.concat([df, location_df], axis=1, join='inner')\n",
    "    # end of the Type of loan preprocessing column\n",
    "    #-------------------------------------------------------------\n",
    "    #rest of preprocessing columns\n",
    "    df.drop(['ID'],inplace = True, axis = 1)\n",
    "    df.drop(['Name'],inplace = True, axis = 1)\n",
    "    df.drop(['SSN'],inplace = True, axis = 1)\n",
    "    df['Age'] = df['Age'].str.replace(r'\\D+', '', regex=True).astype('int')\n",
    "    df['Annual_Income'] = df['Annual_Income'].str.replace(r'\\D+', '', regex=True).astype('float')\n",
    "    df['Num_of_Loan'] = df['Num_of_Loan'].str.replace(r'\\D+', '', regex=True).astype('int')\n",
    "    df['Num_of_Delayed_Payment'] = df['Num_of_Delayed_Payment'].str.replace(r'\\D+', '', regex=True).astype('float')\n",
    "    df['Changed_Credit_Limit'] = pd.to_numeric(df['Changed_Credit_Limit'].str.replace('_', '-4.66'))\n",
    "    df['Outstanding_Debt'] = pd.to_numeric(df['Outstanding_Debt'].str.replace('_', ''))\n",
    "    df['Payment_of_Min_Amount'] = df['Payment_of_Min_Amount'].str.replace('NM', 'No')\n",
    "    df['Amount_invested_monthly'] = pd.to_numeric(df['Amount_invested_monthly'].str.replace('_', ''))\n",
    "    df['Monthly_Balance'] = pd.to_numeric(df['Monthly_Balance'].str.replace('__-333333333333333333333333333__', '333.3333'))\n",
    "    credit_age = []\n",
    "    for i in df['Credit_History_Age']:\n",
    "        credit_age.append(str(i).split(' ')[0])\n",
    "    df['Credit_History_Age'] = credit_age\n",
    "    df['Credit_History_Age'] = df['Credit_History_Age'].replace({'nan':np.nan})\n",
    "    df['Credit_History_Age'] = df['Credit_History_Age'].astype('float64')\n",
    "    df['Age'] = df['Age'].replace('-', '')\n",
    "    df['Changed_Credit_Limit'] = df['Changed_Credit_Limit'].replace('-', '')\n",
    "    df['Num_Bank_Accounts'] = df['Num_Bank_Accounts'].replace('-', '').astype(\"uint8\")\n",
    "    df['Changed_Credit_Limit'] = (df['Changed_Credit_Limit'].replace('-', '')).astype(\"uint8\")\n",
    "    df[\"Changed_Credit_Limit\"]=abs(df[\"Changed_Credit_Limit\"])\n",
    "    #-----------------------------------------------------------------------\n",
    "    #Here we changed categorical data to numerical \n",
    "    from sklearn import preprocessing\n",
    "    le = preprocessing.LabelEncoder()\n",
    "    df['Customer_ID'] = le.fit_transform(df['Customer_ID'])\n",
    "    df['Month'] = le.fit_transform(df.Month)\n",
    "    df['Occupation'] = le.fit_transform(df.Occupation)\n",
    "    df['Credit_Mix'] = le.fit_transform(df['Credit_Mix'])\n",
    "    df['Payment_of_Min_Amount'] = le.fit_transform(df[\"Payment_of_Min_Amount\"])\n",
    "    df['Payment_Behaviour'] = le.fit_transform(df['Payment_Behaviour'])\n",
    "    #-----------------------------------------------------------------------\n",
    "    # Now will begin the filling nan values with KNN imputer\n",
    "    from sklearn.impute import KNNImputer\n",
    "    imputer = KNNImputer(n_neighbors=5)\n",
    "    imputed = imputer.fit_transform(df)\n",
    "    df_imputed = pd.DataFrame(imputed, columns=df.columns)\n",
    "    return df_imputed"
   ]
  },
  {
   "cell_type": "code",
   "execution_count": null,
   "metadata": {},
   "outputs": [],
   "source": []
  },
  {
   "cell_type": "code",
   "execution_count": null,
   "metadata": {},
   "outputs": [],
   "source": []
  },
  {
   "cell_type": "code",
   "execution_count": null,
   "metadata": {},
   "outputs": [],
   "source": [
    "df_final_test=preprocessing_test(df_test)"
   ]
  },
  {
   "cell_type": "code",
   "execution_count": null,
   "metadata": {},
   "outputs": [],
   "source": []
  },
  {
   "cell_type": "code",
   "execution_count": null,
   "metadata": {},
   "outputs": [],
   "source": [
    "df_final_test.head()"
   ]
  },
  {
   "cell_type": "code",
   "execution_count": null,
   "metadata": {},
   "outputs": [],
   "source": [
    "df_final_test=outliers_correction_and_scaling(df_final_test)"
   ]
  },
  {
   "cell_type": "code",
   "execution_count": null,
   "metadata": {},
   "outputs": [],
   "source": [
    "df_final_test.head()"
   ]
  },
  {
   "cell_type": "code",
   "execution_count": null,
   "metadata": {},
   "outputs": [],
   "source": [
    "X_test=x = df_final_test[[ 'Annual_Income',\n",
    "       'Monthly_Inhand_Salary', 'Num_Bank_Accounts', 'Num_Credit_Card',\n",
    "       'Interest_Rate', 'Num_of_Loan', 'Delay_from_due_date',\n",
    "       'Num_of_Delayed_Payment', 'Changed_Credit_Limit',\n",
    "       'Num_Credit_Inquiries', 'Payment_Behaviour','Credit_Mix', 'Outstanding_Debt', 'Credit_History_Age',\n",
    "       'Payment_of_Min_Amount', 'Total_EMI_per_month',\n",
    "       'Amount_invested_monthly', 'Monthly_Balance',0, 1, 2, 3]]"
   ]
  },
  {
   "cell_type": "code",
   "execution_count": null,
   "metadata": {},
   "outputs": [],
   "source": [
    "y_pred=knn_classifier.predict(X_test)"
   ]
  },
  {
   "cell_type": "code",
   "execution_count": null,
   "metadata": {},
   "outputs": [],
   "source": [
    "y_pred.shape"
   ]
  },
  {
   "cell_type": "code",
   "execution_count": null,
   "metadata": {},
   "outputs": [],
   "source": []
  }
 ],
 "metadata": {
  "colab": {
   "collapsed_sections": [],
   "name": "Credit Score.ipynb",
   "provenance": []
  },
  "kernelspec": {
   "display_name": "Python 3 (ipykernel)",
   "language": "python",
   "name": "python3"
  },
  "language_info": {
   "codemirror_mode": {
    "name": "ipython",
    "version": 3
   },
   "file_extension": ".py",
   "mimetype": "text/x-python",
   "name": "python",
   "nbconvert_exporter": "python",
   "pygments_lexer": "ipython3",
   "version": "3.9.7"
  }
 },
 "nbformat": 4,
 "nbformat_minor": 4
}
